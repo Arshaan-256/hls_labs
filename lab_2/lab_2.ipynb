{
 "cells": [
  {
   "cell_type": "code",
   "execution_count": 1,
   "metadata": {},
   "outputs": [
    {
     "data": {
      "application/javascript": [
       "\n",
       "try {\n",
       "require(['notebook/js/codecell'], function(codecell) {\n",
       "  codecell.CodeCell.options_default.highlight_modes[\n",
       "      'magic_text/x-csrc'] = {'reg':[/^%%microblaze/]};\n",
       "  Jupyter.notebook.events.one('kernel_ready.Kernel', function(){\n",
       "      Jupyter.notebook.get_cells().map(function(cell){\n",
       "          if (cell.cell_type == 'code'){ cell.auto_highlight(); } }) ;\n",
       "  });\n",
       "});\n",
       "} catch (e) {};\n"
      ]
     },
     "metadata": {},
     "output_type": "display_data"
    },
    {
     "data": {
      "application/javascript": [
       "\n",
       "try {\n",
       "require(['notebook/js/codecell'], function(codecell) {\n",
       "  codecell.CodeCell.options_default.highlight_modes[\n",
       "      'magic_text/x-csrc'] = {'reg':[/^%%pybind11/]};\n",
       "  Jupyter.notebook.events.one('kernel_ready.Kernel', function(){\n",
       "      Jupyter.notebook.get_cells().map(function(cell){\n",
       "          if (cell.cell_type == 'code'){ cell.auto_highlight(); } }) ;\n",
       "  });\n",
       "});\n",
       "} catch (e) {};\n"
      ]
     },
     "metadata": {},
     "output_type": "display_data"
    }
   ],
   "source": [
    "from pynq import Overlay\n",
    "\n",
    "overlay = Overlay(\"./lab_2.bit\")"
   ]
  },
  {
   "cell_type": "code",
   "execution_count": 2,
   "metadata": {},
   "outputs": [],
   "source": [
    "overlay?"
   ]
  },
  {
   "cell_type": "code",
   "execution_count": 3,
   "metadata": {},
   "outputs": [],
   "source": [
    "top_func = overlay.lab_2_0"
   ]
  },
  {
   "cell_type": "code",
   "execution_count": 4,
   "metadata": {},
   "outputs": [
    {
     "data": {
      "text/plain": [
       "RegisterMap {\n",
       "  A_V = Register(A_V=0),\n",
       "  B_V = Register(B_V=0),\n",
       "  C_V = Register(C_V=0),\n",
       "  Y_V = Register(Y_V=0),\n",
       "  Y_V_ctrl = Register(Y_V_ap_vld=1, RESERVED=0)\n",
       "}"
      ]
     },
     "execution_count": 4,
     "metadata": {},
     "output_type": "execute_result"
    }
   ],
   "source": [
    "top_func.register_map"
   ]
  },
  {
   "cell_type": "code",
   "execution_count": 5,
   "metadata": {},
   "outputs": [],
   "source": [
    "# test values\n",
    "val_A = 12732.636\n",
    "val_B = 3434.21\n",
    "val_C = 38.1223"
   ]
  },
  {
   "cell_type": "code",
   "execution_count": 6,
   "metadata": {},
   "outputs": [],
   "source": [
    "\"\"\"\n",
    "f is the input floating point number \n",
    "e is the number of fractional bits in the ap_fixed<W,I> format\n",
    "\"\"\"\n",
    "def to_fixed(f,e):\n",
    "    a = f* (2**e)\n",
    "    b = int(round(a))\n",
    "    if a < 0:\n",
    "        # next three lines turns b into it's 2's complement.\n",
    "        b = abs(b)\n",
    "        b = ~b\n",
    "        b = b + 1\n",
    "    return b\n",
    "\n",
    "fix_val_A = to_fixed(val_A, 16)\n",
    "fix_val_B = to_fixed(val_B, 16)\n",
    "fix_val_C = to_fixed(val_C, 16)"
   ]
  },
  {
   "cell_type": "code",
   "execution_count": 7,
   "metadata": {},
   "outputs": [
    {
     "name": "stdout",
     "output_type": "stream",
     "text": [
      "fix_val_A: 834446033\n",
      "fix_val_B: 225064387\n",
      "fix_val_C: 2498383\n"
     ]
    }
   ],
   "source": [
    "print(f\"fix_val_A: {fix_val_A}\")\n",
    "print(f\"fix_val_B: {fix_val_B}\")\n",
    "print(f\"fix_val_C: {fix_val_C}\")"
   ]
  },
  {
   "cell_type": "code",
   "execution_count": 8,
   "metadata": {},
   "outputs": [],
   "source": [
    "top_func.register_map.A_V = fix_val_A\n",
    "top_func.register_map.B_V = fix_val_B\n",
    "top_func.register_map.C_V = fix_val_C"
   ]
  },
  {
   "cell_type": "code",
   "execution_count": 9,
   "metadata": {},
   "outputs": [
    {
     "data": {
      "text/plain": [
       "RegisterMap {\n",
       "  A_V = Register(A_V=834446033),\n",
       "  B_V = Register(B_V=225064387),\n",
       "  C_V = Register(C_V=2498383),\n",
       "  Y_V = Register(Y_V=1002857),\n",
       "  Y_V_ctrl = Register(Y_V_ap_vld=1, RESERVED=0)\n",
       "}"
      ]
     },
     "execution_count": 9,
     "metadata": {},
     "output_type": "execute_result"
    }
   ],
   "source": [
    "top_func.register_map"
   ]
  },
  {
   "cell_type": "code",
   "execution_count": 10,
   "metadata": {},
   "outputs": [
    {
     "name": "stdout",
     "output_type": "stream",
     "text": [
      "0xf4d69\n"
     ]
    }
   ],
   "source": [
    "print(top_func.register_map.Y_V)"
   ]
  },
  {
   "cell_type": "code",
   "execution_count": 11,
   "metadata": {},
   "outputs": [
    {
     "name": "stdout",
     "output_type": "stream",
     "text": [
      "1002857 <class 'int'>\n"
     ]
    }
   ],
   "source": [
    "val = top_func.read(0x28)\n",
    "print(f\"{val} {type(val)}\")"
   ]
  },
  {
   "cell_type": "code",
   "execution_count": 12,
   "metadata": {},
   "outputs": [
    {
     "name": "stdout",
     "output_type": "stream",
     "text": [
      "15.302383422851562\n"
     ]
    }
   ],
   "source": [
    "\"\"\"\n",
    "x is the input fixed number which is of integer datatype\n",
    "e is the number of fractional bits in the ap_fixed<W,I> format\n",
    "\"\"\"\n",
    "def to_float(x,e):\n",
    "    c = abs(x)\n",
    "    sign = 1 \n",
    "    if x < 0:\n",
    "        # convert back from two's complement\n",
    "        c = x - 1 \n",
    "        c = ~c\n",
    "        sign = -1\n",
    "    f = (1.0 * c) / (2 ** e)\n",
    "    f = f * sign\n",
    "    return f\n",
    "\n",
    "float_val = to_float(val, 16)\n",
    "print(float_val)"
   ]
  },
  {
   "cell_type": "code",
   "execution_count": 13,
   "metadata": {},
   "outputs": [
    {
     "name": "stdout",
     "output_type": "stream",
     "text": [
      "15.302384468324684\n"
     ]
    }
   ],
   "source": [
    "# ground truth\n",
    "import math\n",
    "print(math.log(val_A/val_C) + math.sqrt(val_B/val_C))"
   ]
  },
  {
   "cell_type": "code",
   "execution_count": null,
   "metadata": {},
   "outputs": [],
   "source": []
  }
 ],
 "metadata": {
  "kernelspec": {
   "display_name": "Python 3",
   "language": "python",
   "name": "python3"
  },
  "language_info": {
   "codemirror_mode": {
    "name": "ipython",
    "version": 3
   },
   "file_extension": ".py",
   "mimetype": "text/x-python",
   "name": "python",
   "nbconvert_exporter": "python",
   "pygments_lexer": "ipython3",
   "version": "3.6.5"
  }
 },
 "nbformat": 4,
 "nbformat_minor": 2
}
